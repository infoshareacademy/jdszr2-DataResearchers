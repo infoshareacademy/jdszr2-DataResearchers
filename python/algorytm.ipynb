{
 "metadata": {
  "language_info": {
   "codemirror_mode": {
    "name": "ipython",
    "version": 3
   },
   "file_extension": ".py",
   "mimetype": "text/x-python",
   "name": "python",
   "nbconvert_exporter": "python",
   "pygments_lexer": "ipython3",
   "version": "3.8.3-final"
  },
  "orig_nbformat": 2,
  "kernelspec": {
   "name": "python3",
   "display_name": "Python 3",
   "language": "python"
  }
 },
 "nbformat": 4,
 "nbformat_minor": 2,
 "cells": [
  {
   "source": [
    "## Algorytm walki v.0.1"
   ],
   "cell_type": "markdown",
   "metadata": {}
  },
  {
   "source": [
    "### Equations of fight\n",
    "\n",
    "$\\mathsf{POT} \\approx \\mathsf{CP}_{eff}$,\n",
    "\n",
    "$ \\mathsf{POT}(x) = \\min \\big( stats(x) \\cdot \\frac{ \\mathsf{lvl} \\cdot 6 }{100} \\cdot \\mathsf{Modifier_{1}} \\cdot \\mathsf{Modifier_{2}}  \\cdot \\mathsf{Modifier_{3}}  \\cdot \\mathsf{Modifier_{4}}, 10^4 \\big),$ where\n",
    "\n",
    "$stats(x) = \\sum_i^6 c_{i,x}$ , $\\mathbf{c}_x = \\{\\mathsf{HP}, \\mathsf{Atk}, \\mathsf{Def}, \\mathsf{Sp.Atk}, \\mathsf{Sp.Def}, \\mathsf{Speed} \\}$\n",
    "\n",
    "$\\mathsf{Modifier_k} = \\mathsf{M}_{ij,k} $ , where $i = \\mathsf{type}_{i},$, $j = \\mathsf{type}_{j}$, and $k$ sets $i$ and $j$ values \n",
    "\n",
    "$\\mathbf{type} = [ \\mathsf{Normal}, \\mathsf{Fight}, \\mathsf{Flying}, \\mathsf{Poison}, \\mathsf{Ground}, \\mathsf{Rock}, \\mathsf{Bug}, \\mathsf{Ghost}, \\mathsf{Steel}, \\mathsf{Fire}, \\mathsf{Water}, \\mathsf{Grass}, \\mathsf{Electr}, \\mathsf{Psychic}, \\mathsf{Ice}, \\mathsf{Dragon}, \\mathsf{Dark}, \\mathsf{Fairy}]$\n",
    "\n",
    "$\\mathbf{M} = \\hat{T} ( \\mathbf{type} \\times \\mathbf{type} )$\n",
    "\n",
    "$ \\hat{T} := value$ $ \\forall $ $\\big\\{ \\mathsf{type}_1, \\mathsf{type}_2 \\big\\} $, where $value \\in \\big\\{ 1.0, 1.4 , 0.714, 0.51 \\big\\} $ , specific values are based on 'Type matrix.csv'\n",
    "\n",
    "\n",
    "\n",
    "\n",
    "#### Types interaction:\n",
    "\n",
    "Neutral – no increase/decrease: $value = 1.0$ \n",
    "\n",
    "Super Effective – it increases damage: $value = 1.4$\n",
    "\n",
    "Not very Effective (resistance)– it reduces damage: $value = 0.714$\n",
    "\n",
    "Immune – it greatly reduces damage: $value = 0.51$"
   ],
   "cell_type": "markdown",
   "metadata": {}
  }
 ]
}