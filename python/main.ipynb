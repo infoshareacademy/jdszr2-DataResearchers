{
 "metadata": {
  "language_info": {
   "codemirror_mode": {
    "name": "ipython",
    "version": 3
   },
   "file_extension": ".py",
   "mimetype": "text/x-python",
   "name": "python",
   "nbconvert_exporter": "python",
   "pygments_lexer": "ipython3",
   "version": "3.8.6-final"
  },
  "orig_nbformat": 2,
  "kernelspec": {
   "name": "python38664bitad68d434c82048a887cc76e152609612",
   "display_name": "Python 3.8.6 64-bit",
   "language": "python"
  }
 },
 "nbformat": 4,
 "nbformat_minor": 2,
 "cells": [
  {
   "cell_type": "code",
   "execution_count": 28,
   "metadata": {},
   "outputs": [],
   "source": [
    "import pandas as pd\n",
    "import sqlite3\n",
    "\n",
    "# Read sqlite query results into a pandas DataFrame\n",
    "con = sqlite3.connect(\"database.sqlite\")\n",
    "pokemon_df = pd.read_sql_query(\"SELECT * from Pokemon\", con)\n",
    "trainers_df = pd.read_sql_query(\"SELECT * from Trainers\", con)\n",
    "\n",
    "# Verify that result of SQL query is stored in the dataframe\n",
    "\n",
    "con.close()"
   ]
  },
  {
   "cell_type": "code",
   "execution_count": 35,
   "metadata": {},
   "outputs": [
    {
     "output_type": "execute_result",
     "data": {
      "text/plain": [
       "   trainerID  place   pokename  pokelevel   type1   type2   hp  maxhp  attack  \\\n",
       "0          0      0   Smeargle         60  Normal    None  157    157      50   \n",
       "1          1      0   Smeargle         30  Normal    None   83     83      27   \n",
       "2          2      0    Wailord         57   Water    None  281    281     128   \n",
       "3          2      1  Vileplume         57   Grass  Poison  173    173     116   \n",
       "4          3      0    Armaldo         47    Rock     Bug  144    144     139   \n",
       "\n",
       "   defense  spatk  spdef  speed  \n",
       "0       68     50     80    116  \n",
       "1       36     27     42     60  \n",
       "2       76    128     76     93  \n",
       "3      122    150    128     82  \n",
       "4      115     87     97     64  "
      ],
      "text/html": "<div>\n<style scoped>\n    .dataframe tbody tr th:only-of-type {\n        vertical-align: middle;\n    }\n\n    .dataframe tbody tr th {\n        vertical-align: top;\n    }\n\n    .dataframe thead th {\n        text-align: right;\n    }\n</style>\n<table border=\"1\" class=\"dataframe\">\n  <thead>\n    <tr style=\"text-align: right;\">\n      <th></th>\n      <th>trainerID</th>\n      <th>place</th>\n      <th>pokename</th>\n      <th>pokelevel</th>\n      <th>type1</th>\n      <th>type2</th>\n      <th>hp</th>\n      <th>maxhp</th>\n      <th>attack</th>\n      <th>defense</th>\n      <th>spatk</th>\n      <th>spdef</th>\n      <th>speed</th>\n    </tr>\n  </thead>\n  <tbody>\n    <tr>\n      <th>0</th>\n      <td>0</td>\n      <td>0</td>\n      <td>Smeargle</td>\n      <td>60</td>\n      <td>Normal</td>\n      <td>None</td>\n      <td>157</td>\n      <td>157</td>\n      <td>50</td>\n      <td>68</td>\n      <td>50</td>\n      <td>80</td>\n      <td>116</td>\n    </tr>\n    <tr>\n      <th>1</th>\n      <td>1</td>\n      <td>0</td>\n      <td>Smeargle</td>\n      <td>30</td>\n      <td>Normal</td>\n      <td>None</td>\n      <td>83</td>\n      <td>83</td>\n      <td>27</td>\n      <td>36</td>\n      <td>27</td>\n      <td>42</td>\n      <td>60</td>\n    </tr>\n    <tr>\n      <th>2</th>\n      <td>2</td>\n      <td>0</td>\n      <td>Wailord</td>\n      <td>57</td>\n      <td>Water</td>\n      <td>None</td>\n      <td>281</td>\n      <td>281</td>\n      <td>128</td>\n      <td>76</td>\n      <td>128</td>\n      <td>76</td>\n      <td>93</td>\n    </tr>\n    <tr>\n      <th>3</th>\n      <td>2</td>\n      <td>1</td>\n      <td>Vileplume</td>\n      <td>57</td>\n      <td>Grass</td>\n      <td>Poison</td>\n      <td>173</td>\n      <td>173</td>\n      <td>116</td>\n      <td>122</td>\n      <td>150</td>\n      <td>128</td>\n      <td>82</td>\n    </tr>\n    <tr>\n      <th>4</th>\n      <td>3</td>\n      <td>0</td>\n      <td>Armaldo</td>\n      <td>47</td>\n      <td>Rock</td>\n      <td>Bug</td>\n      <td>144</td>\n      <td>144</td>\n      <td>139</td>\n      <td>115</td>\n      <td>87</td>\n      <td>97</td>\n      <td>64</td>\n    </tr>\n  </tbody>\n</table>\n</div>"
     },
     "metadata": {},
     "execution_count": 35
    }
   ],
   "source": [
    "pokemon_df.head() # Pokemon head "
   ]
  },
  {
   "cell_type": "code",
   "execution_count": 36,
   "metadata": {},
   "outputs": [
    {
     "output_type": "execute_result",
     "data": {
      "text/plain": [
       "          trainerID         place     pokelevel            hp         maxhp  \\\n",
       "count  28804.000000  28804.000000  28804.000000  28804.000000  28804.000000   \n",
       "mean    5868.511700      1.182614     40.442508    120.074712    120.074712   \n",
       "std     3354.630027      1.334142     18.236740     59.720906     59.720906   \n",
       "min        0.000000      0.000000      2.000000     14.000000     14.000000   \n",
       "25%     3012.000000      0.000000     28.000000     77.000000     77.000000   \n",
       "50%     5873.000000      1.000000     40.000000    116.000000    116.000000   \n",
       "75%     8734.250000      2.000000     50.000000    150.000000    150.000000   \n",
       "max    11859.000000      5.000000    100.000000    656.000000    656.000000   \n",
       "\n",
       "             attack       defense         spatk         spdef         speed  \n",
       "count  28804.000000  28804.000000  28804.000000  28804.000000  28804.000000  \n",
       "mean      80.585995     75.943827     73.859707     74.429697     74.815546  \n",
       "std       46.502081     43.869618     42.817827     43.263908     42.983738  \n",
       "min        6.000000      6.000000      6.000000      6.000000      7.000000  \n",
       "25%       46.000000     44.000000     44.000000     44.000000     45.000000  \n",
       "50%       73.000000     70.000000     68.000000     68.000000     68.000000  \n",
       "75%      105.000000     98.000000     95.000000     98.000000     97.000000  \n",
       "max      361.000000    501.000000    349.000000    501.000000    361.000000  "
      ],
      "text/html": "<div>\n<style scoped>\n    .dataframe tbody tr th:only-of-type {\n        vertical-align: middle;\n    }\n\n    .dataframe tbody tr th {\n        vertical-align: top;\n    }\n\n    .dataframe thead th {\n        text-align: right;\n    }\n</style>\n<table border=\"1\" class=\"dataframe\">\n  <thead>\n    <tr style=\"text-align: right;\">\n      <th></th>\n      <th>trainerID</th>\n      <th>place</th>\n      <th>pokelevel</th>\n      <th>hp</th>\n      <th>maxhp</th>\n      <th>attack</th>\n      <th>defense</th>\n      <th>spatk</th>\n      <th>spdef</th>\n      <th>speed</th>\n    </tr>\n  </thead>\n  <tbody>\n    <tr>\n      <th>count</th>\n      <td>28804.000000</td>\n      <td>28804.000000</td>\n      <td>28804.000000</td>\n      <td>28804.000000</td>\n      <td>28804.000000</td>\n      <td>28804.000000</td>\n      <td>28804.000000</td>\n      <td>28804.000000</td>\n      <td>28804.000000</td>\n      <td>28804.000000</td>\n    </tr>\n    <tr>\n      <th>mean</th>\n      <td>5868.511700</td>\n      <td>1.182614</td>\n      <td>40.442508</td>\n      <td>120.074712</td>\n      <td>120.074712</td>\n      <td>80.585995</td>\n      <td>75.943827</td>\n      <td>73.859707</td>\n      <td>74.429697</td>\n      <td>74.815546</td>\n    </tr>\n    <tr>\n      <th>std</th>\n      <td>3354.630027</td>\n      <td>1.334142</td>\n      <td>18.236740</td>\n      <td>59.720906</td>\n      <td>59.720906</td>\n      <td>46.502081</td>\n      <td>43.869618</td>\n      <td>42.817827</td>\n      <td>43.263908</td>\n      <td>42.983738</td>\n    </tr>\n    <tr>\n      <th>min</th>\n      <td>0.000000</td>\n      <td>0.000000</td>\n      <td>2.000000</td>\n      <td>14.000000</td>\n      <td>14.000000</td>\n      <td>6.000000</td>\n      <td>6.000000</td>\n      <td>6.000000</td>\n      <td>6.000000</td>\n      <td>7.000000</td>\n    </tr>\n    <tr>\n      <th>25%</th>\n      <td>3012.000000</td>\n      <td>0.000000</td>\n      <td>28.000000</td>\n      <td>77.000000</td>\n      <td>77.000000</td>\n      <td>46.000000</td>\n      <td>44.000000</td>\n      <td>44.000000</td>\n      <td>44.000000</td>\n      <td>45.000000</td>\n    </tr>\n    <tr>\n      <th>50%</th>\n      <td>5873.000000</td>\n      <td>1.000000</td>\n      <td>40.000000</td>\n      <td>116.000000</td>\n      <td>116.000000</td>\n      <td>73.000000</td>\n      <td>70.000000</td>\n      <td>68.000000</td>\n      <td>68.000000</td>\n      <td>68.000000</td>\n    </tr>\n    <tr>\n      <th>75%</th>\n      <td>8734.250000</td>\n      <td>2.000000</td>\n      <td>50.000000</td>\n      <td>150.000000</td>\n      <td>150.000000</td>\n      <td>105.000000</td>\n      <td>98.000000</td>\n      <td>95.000000</td>\n      <td>98.000000</td>\n      <td>97.000000</td>\n    </tr>\n    <tr>\n      <th>max</th>\n      <td>11859.000000</td>\n      <td>5.000000</td>\n      <td>100.000000</td>\n      <td>656.000000</td>\n      <td>656.000000</td>\n      <td>361.000000</td>\n      <td>501.000000</td>\n      <td>349.000000</td>\n      <td>501.000000</td>\n      <td>361.000000</td>\n    </tr>\n  </tbody>\n</table>\n</div>"
     },
     "metadata": {},
     "execution_count": 36
    }
   ],
   "source": [
    "pokemon_df.describe() # Pokemon data description"
   ]
  },
  {
   "cell_type": "code",
   "execution_count": 38,
   "metadata": {},
   "outputs": [
    {
     "output_type": "execute_result",
     "data": {
      "text/plain": [
       "   trainerID           trainername\n",
       "0          0   A-list Actor Alonso\n",
       "1          1  A-list Actor Ricardo\n",
       "2          2  Ace Duo Elina & Sean\n",
       "3          3   Ace Duo Jude & Rory\n",
       "4          4   Ace Duo Jude & Rory"
      ],
      "text/html": "<div>\n<style scoped>\n    .dataframe tbody tr th:only-of-type {\n        vertical-align: middle;\n    }\n\n    .dataframe tbody tr th {\n        vertical-align: top;\n    }\n\n    .dataframe thead th {\n        text-align: right;\n    }\n</style>\n<table border=\"1\" class=\"dataframe\">\n  <thead>\n    <tr style=\"text-align: right;\">\n      <th></th>\n      <th>trainerID</th>\n      <th>trainername</th>\n    </tr>\n  </thead>\n  <tbody>\n    <tr>\n      <th>0</th>\n      <td>0</td>\n      <td>A-list Actor Alonso</td>\n    </tr>\n    <tr>\n      <th>1</th>\n      <td>1</td>\n      <td>A-list Actor Ricardo</td>\n    </tr>\n    <tr>\n      <th>2</th>\n      <td>2</td>\n      <td>Ace Duo Elina &amp; Sean</td>\n    </tr>\n    <tr>\n      <th>3</th>\n      <td>3</td>\n      <td>Ace Duo Jude &amp; Rory</td>\n    </tr>\n    <tr>\n      <th>4</th>\n      <td>4</td>\n      <td>Ace Duo Jude &amp; Rory</td>\n    </tr>\n  </tbody>\n</table>\n</div>"
     },
     "metadata": {},
     "execution_count": 38
    }
   ],
   "source": [
    "trainers_df.head() # Trainers head"
   ]
  }
 ]
}